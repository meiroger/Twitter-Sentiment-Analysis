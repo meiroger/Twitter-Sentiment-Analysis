{
 "cells": [
  {
   "cell_type": "markdown",
   "metadata": {},
   "source": [
    "# Data Preprocessing"
   ]
  },
  {
   "cell_type": "markdown",
   "metadata": {},
   "source": [
    "Import the libraries.\n",
    "\n",
    "datapath is initially set to current directory. "
   ]
  },
  {
   "cell_type": "code",
   "execution_count": 1,
   "metadata": {},
   "outputs": [],
   "source": [
    "# enter file path for data\n",
    "datapath = './'\n",
    "\n",
    "import numpy as np\n",
    "import matplotlib.pyplot as plt\n",
    "import csv\n",
    "import string\n",
    "import random\n",
    "import re\n",
    "import operator\n",
    "from copy import copy\n",
    "from nltk.corpus import stopwords \n",
    "from nltk.tokenize import TweetTokenizer\n",
    "from nltk.stem import PorterStemmer"
   ]
  },
  {
   "cell_type": "markdown",
   "metadata": {},
   "source": [
    "The csv is first read in, and the columns of interest (first and last) are extracted from the csv file.\n",
    "\n",
    "New binary indicators are made; positive tweets are indicated by 1 and negative tweets are indicated by 0.\n",
    "\n",
    "In the tweets, all letters are made lowercase so that all the words can be compared with stop words. With all words lowercased, weights are also not case sensitive to words that should be the same. Repeated characters with sequences of length 3 or greater are reduced to sequences of length 3 for consistency among the same words. "
   ]
  },
  {
   "cell_type": "markdown",
   "metadata": {},
   "source": [
    "The tweets are then tokenized and stop words are removed. Because there are no emoticons, punctuation is stripped off the ends of each token. Stemming is also used so that words with the same stem and that contribute the same sentiment to a sentence are considered the same.\n",
    "Handles, numerical digits, and URLs are removed as well since they contribute no sentiment. As many unneccessary words are removed as possible, because there are too many words/features and not enough data."
   ]
  },
  {
   "cell_type": "code",
   "execution_count": 2,
   "metadata": {},
   "outputs": [
    {
     "name": "stdout",
     "output_type": "stream",
     "text": [
      "[(['awww', \"that'\", 'bummer', 'shoulda', 'got', 'david', 'carr', 'third', 'day'], 0), (['upset', \"can't\", 'updat', 'facebook', 'text', 'might', 'cri', 'result', 'school', 'today', 'also', 'blah'], 0), (['dive', 'mani', 'time', 'ball', 'manag', 'save', 'rest', 'go', 'bound'], 0), (['whole', 'bodi', 'feel', 'itchi', 'like', 'fire'], 0), (['behav', \"i'm\", 'mad', \"can't\", 'see'], 0), (['whole', 'crew'], 0), (['need', 'hug'], 0), (['hey', 'long', 'time', 'see', 'ye', 'rain', 'bit', 'bit', 'lol', \"i'm\", 'fine', 'thank', \"how'\"], 0), (['nope'], 0), (['que', 'muera'], 0)]\n"
     ]
    }
   ],
   "source": [
    "# read in csv file\n",
    "csvname = datapath + 'training.1600000.processed.noemoticon.csv'\n",
    "data = open(csvname, \"r\", encoding = \"ISO-8859-1\")\n",
    "csvReader = csv.reader(data)\n",
    "\n",
    "all_data = []\n",
    "for row in csvReader:\n",
    "    y = int(row[0])\n",
    "    # lowercase tweet \n",
    "    x = row[-1].lower()\n",
    "    # extract columns of interest (tweet, sentiment)\n",
    "    # negative and positive indicators converted to 0 and 1\n",
    "    all_data.append((x,max(0,y-3)))\n",
    "        \n",
    "# used to tokenize and remove stop words\n",
    "tknzr = TweetTokenizer(strip_handles=True,reduce_len=True)\n",
    "stop_words = set(stopwords.words('english'))\n",
    "# used to remove digits\n",
    "remove_digits = str.maketrans('', '', string.digits)\n",
    "# used to stem\n",
    "stemmer = PorterStemmer()\n",
    "\n",
    "for n,instance in enumerate(all_data):\n",
    "    tweet = instance[0]\n",
    "    sentiment = instance[1]\n",
    "    # using regular expressions, remove URLs from tweet \n",
    "    tweet = re.sub(r\"http://\\S+\",\"\",tweet)\n",
    "    tweet = re.sub(r\"https://\\S+\",\"\",tweet)\n",
    "    tweet = re.sub(r\"www.\\S+\",\"\",tweet)\n",
    "    tweet = re.sub(r\"\\S+.com[/\\S+]*\",\"\",tweet)\n",
    "    tweet = re.sub(r\"\\S+.org[/\\S+]*\",\"\",tweet)\n",
    "    tweet = re.sub(r\"\\S+.net[/\\S+]*\",\"\",tweet)\n",
    "    # regular expression to remove emails\n",
    "    tweet =re.sub(r\"\\S*@\\S*\\s?\",\"\",tweet)\n",
    "    tokens = tknzr.tokenize(tweet)\n",
    "    # remove punctuation from ends of each token as well as numerical digits\n",
    "    for i, token in enumerate(tokens):\n",
    "        tokens[i] = token.strip(string.punctuation).translate(remove_digits)\n",
    "    # remove stop words and empty strings\n",
    "    tokenized_tweet = [word for word in tokens if (word not in stop_words and word != '')]\n",
    "    # stemming\n",
    "    tokenized_tweet = [stemmer.stem(token) for token in tokenized_tweet]\n",
    "    # tuples are used so that each instance is immutable\n",
    "    all_data[n] = (tokenized_tweet, sentiment)\n",
    "\n",
    "# verifying tweet tokenization\n",
    "print(all_data[:10])"
   ]
  },
  {
   "cell_type": "markdown",
   "metadata": {},
   "source": [
    "The data is split into training, validation, and test sets with a 60-10-30 split.\n",
    "Each set has 50% positive examples and 50% negative examples, so that the standard accuracy measure for any model to beat is 50%."
   ]
  },
  {
   "cell_type": "code",
   "execution_count": 3,
   "metadata": {},
   "outputs": [
    {
     "name": "stdout",
     "output_type": "stream",
     "text": [
      "total number of examples:  1600000\n",
      "total number of postive examples:  800000\n",
      "total number of negative examples:  800000 \n",
      "\n",
      "training set length:  960000\n",
      "(['chill', 'sun', 'england', 'think', 'go', 'hardcor', 'run', 'session', 'later'], 1) \n",
      "\n",
      "validation set length:  160000\n",
      "(['point', 'increas', 'effort', 'till', 'work', 'reach', 'free', 'time'], 1) \n",
      "\n",
      "testing set length:  480000\n",
      "([\"i'm\", 'post', 'ton', 'updat', 'right', \"i'm\", 'boree'], 1) \n",
      "\n"
     ]
    }
   ],
   "source": [
    "num_examples = len(all_data)\n",
    "print(\"total number of examples: \", num_examples)\n",
    "pos_data = []\n",
    "neg_data = []\n",
    "# split positive and negative data into separate lists\n",
    "for instance in all_data:\n",
    "    if instance[1] == 1:\n",
    "        pos_data.append(instance)\n",
    "    else:\n",
    "        neg_data.append(instance)\n",
    "num_pos = len(pos_data)\n",
    "num_neg = len(neg_data)\n",
    "print(\"total number of postive examples: \", num_pos)\n",
    "print(\"total number of negative examples: \", num_neg, \"\\n\")\n",
    "\n",
    "# shuffle all data randomly\n",
    "random.shuffle(pos_data)\n",
    "random.shuffle(neg_data)\n",
    "# 60% training set\n",
    "training_set = pos_data[:int(num_pos*.6)] + neg_data[:int(num_neg*.6)]\n",
    "# 10% validataion set\n",
    "validation_set = pos_data[int(num_pos*.6):int(num_pos*.7)] + neg_data[int(num_neg*.6):int(num_neg*.7)]\n",
    "# 30% test set\n",
    "test_set = pos_data[int(num_pos*.7):] + neg_data[int(num_neg*.7):]\n",
    "\n",
    "# verifying 60-30-10 split and randomization\n",
    "print(\"training set length: \", len(training_set))\n",
    "print(training_set[0],\"\\n\")\n",
    "print(\"validation set length: \", len(validation_set))\n",
    "print(validation_set[0],\"\\n\")\n",
    "print(\"testing set length: \", len(test_set))\n",
    "print(test_set[0],\"\\n\")"
   ]
  },
  {
   "cell_type": "markdown",
   "metadata": {},
   "source": [
    "A dictionary of all the word and weight pairs in the training data is created. All weights are initialized to 0 as that pertains to contributing no sentiment to a given tweet, giving an even starting ground for every word. A dictionary is used instead of numpy arrays due to constant time lookup. During gradient descent, only the weights that are relevant in a given tweet will be updated with a dictionary, which is important with a large dataset. \n",
    "\n",
    "On the other hand, numpy arrays and matrix math scales linearly to the size of the array/matrix."
   ]
  },
  {
   "cell_type": "code",
   "execution_count": 4,
   "metadata": {},
   "outputs": [
    {
     "name": "stdout",
     "output_type": "stream",
     "text": [
      "total number of words: 180028\n",
      "('chill', 0)\n",
      "('sun', 0)\n",
      "('england', 0)\n",
      "('think', 0)\n",
      "('go', 0)\n",
      "('hardcor', 0)\n",
      "('run', 0)\n",
      "('session', 0)\n",
      "('later', 0)\n",
      "('inconspicu', 0)\n"
     ]
    }
   ],
   "source": [
    "# dictionary of all words present in training data with corresponding weight\n",
    "words = {}\n",
    "for instance in training_set:\n",
    "    for word in instance[0]:\n",
    "        # make unique\n",
    "        if word not in words:\n",
    "            # initialization of weight as 0\n",
    "            words[word] = 0\n",
    "        \n",
    "# number of words/features\n",
    "print(\"total number of words:\",len(words))\n",
    "# verifying dictionary of words created correctly\n",
    "iterator = iter(words.items())\n",
    "for i in range(10):\n",
    "    print(next(iterator))"
   ]
  },
  {
   "cell_type": "markdown",
   "metadata": {},
   "source": [
    "# Stochastic Gradient Descent"
   ]
  },
  {
   "cell_type": "markdown",
   "metadata": {},
   "source": [
    "All helper functions for gradient descent:"
   ]
  },
  {
   "cell_type": "code",
   "execution_count": 5,
   "metadata": {},
   "outputs": [],
   "source": [
    "def model(tweet,b,weights):\n",
    "    '''\n",
    "    computes linear combination of input points,\n",
    "    ignores words that haven't been seen in training set\n",
    "    input:\n",
    "        tweet - str, tweet from a row of data\n",
    "        b - float, bias\n",
    "        weights - dict, dictionary of word, weight pairs\n",
    "    output:\n",
    "        model - float, linear combination of WX + b\n",
    "    '''\n",
    "    wx = 0\n",
    "    for word in tweet:\n",
    "        if word not in weights:\n",
    "            # ignores words that haven't been seen in training set\n",
    "            continue\n",
    "        wx += weights[word]\n",
    "    model = b + wx\n",
    "    return model\n",
    "\n",
    "\n",
    "def ridge_norm(weights):\n",
    "    '''\n",
    "    computes squared L2 norm of weights vector\n",
    "    input:\n",
    "        weights - dict, dictionary of word, weight pairs\n",
    "    output:\n",
    "        norm - float, squared L2 norm of weights vector\n",
    "    '''\n",
    "    arr = np.array(list(weights.values()))\n",
    "    norm = (np.linalg.norm(arr))**2\n",
    "    return norm\n",
    "\n",
    "def pos_cost(tweet,reg,b,weights):\n",
    "    '''\n",
    "    computes cost for a positive example \n",
    "    input:\n",
    "        tweet - str, tweet from a row of data\n",
    "        reg - float, ridge penalty value\n",
    "        b - float, bias\n",
    "        weights - dict, dictionary of word, weight pairs\n",
    "    output:\n",
    "        cost - float, cost for a positive example\n",
    "    '''\n",
    "    cost = -np.log(1/(1 + np.exp(-model(tweet,b,weights)))) + (reg/2)*(ridge_norm(weights))\n",
    "    return cost\n",
    "\n",
    "def neg_cost(tweet,reg,b,weights):\n",
    "    '''\n",
    "    computes cost for a negative example \n",
    "    input:\n",
    "        tweet - str, tweet from a row of data\n",
    "        reg - float, ridge penalty value\n",
    "        b - float, bias\n",
    "        weights - dict, dictionary of word, weight pairs\n",
    "    output:\n",
    "        cost - float, cost for a negative example\n",
    "    '''\n",
    "    cost = -np.log(1 - 1/(1 + np.exp(-model(tweet,b,weights)))) + (reg/2)*(ridge_norm(weights))\n",
    "    return cost\n",
    "\n",
    "def plot_cost_histories(cost_history):\n",
    "    '''\n",
    "    plots cost function history plot\n",
    "    input:\n",
    "        cost_history - list, list of costs at every 10% of dataset gone through\n",
    "    output:\n",
    "        None\n",
    "    '''\n",
    "    num_its = len(cost_history)\n",
    "    iterations = np.linspace(1,num_its,num_its)\n",
    "    plt.plot(iterations,cost_history)\n",
    "    plt.title(\"Cost Function History Plot\")\n",
    "    plt.xlabel(\"iterations (every 10% of dataset)\")\n",
    "    plt.ylabel(\"cost\")"
   ]
  },
  {
   "cell_type": "markdown",
   "metadata": {},
   "source": [
    "Gradient descent (with momentum) function with cost calculation:\n",
    "\n",
    "The cost function is only calculated every $\\frac{1}{10}th$ of the training set for better time efficiency."
   ]
  },
  {
   "cell_type": "code",
   "execution_count": 16,
   "metadata": {},
   "outputs": [],
   "source": [
    "# gradient descent function \n",
    "def gradient_descent_cost(gamma,max_eps,reg,b,w0,beta):\n",
    "    '''\n",
    "    performs binary (ridge) logistic regression with gradient descent \n",
    "    input:\n",
    "        gamma - float, learning rate\n",
    "        max_eps - int, maximum number of epochs\n",
    "        reg - float, ridge penalty value\n",
    "        b - float, bias\n",
    "        w0 - dict, dictionary of word, weight pairs for initial weights\n",
    "    output:\n",
    "        new_weights - dict, dictionary of word, weight pairs for final weights\n",
    "        cost_history - list, list of costs at every 10% of dataset gone through\n",
    "    '''\n",
    "    # copy initial weights\n",
    "    new_weights = copy(w0)\n",
    "    # cost function history container\n",
    "    cost_history = [] \n",
    "    \n",
    "    z = np.zeros((np.shape(w0)))      # momentum term\n",
    "    \n",
    "    for k in range(max_eps):\n",
    "        # randomly shuffle data at beginning of each epoch\n",
    "        random.shuffle(training_set)\n",
    "        tweet_counter = 0\n",
    "        for instance in training_set:\n",
    "            # remove duplicate words in tweet\n",
    "            tweet = list(set(instance[0]))\n",
    "            sentiment = instance[1]\n",
    "            p = 1/(1 + np.exp(-model(tweet,b,new_weights)))\n",
    "            for word in tweet:\n",
    "                # evaluation of cost function gradient\n",
    "                grad_eval = (p-sentiment) + reg*new_weights[word]\n",
    "                # take gradient descent step with momentum\n",
    "                z = beta*z + grad_eval\n",
    "                new_weights[word] = new_weights[word] - gamma*z  \n",
    "            \n",
    "            tweet_counter += 1\n",
    "            if tweet_counter % (len(training_set)/10) == 0:\n",
    "                # record cost\n",
    "                if sentiment == 1:\n",
    "                    cost = pos_cost(tweet,reg,b,new_weights)\n",
    "                else:\n",
    "                    cost = neg_cost(tweet,reg,b,new_weights)\n",
    "                cost_history.append(cost)      \n",
    "                \n",
    "    return new_weights, cost_history"
   ]
  },
  {
   "cell_type": "markdown",
   "metadata": {},
   "source": [
    "Example run of gradient descent with cost calculations:"
   ]
  },
  {
   "cell_type": "code",
   "execution_count": 17,
   "metadata": {},
   "outputs": [
    {
     "name": "stdout",
     "output_type": "stream",
     "text": [
      "final cost: 0.0018443062014402401\n"
     ]
    },
    {
     "data": {
      "image/png": "[encoded data removed]",
      "text/plain": [
       "<Figure size 432x288 with 1 Axes>"
      ]
     },
     "metadata": {
      "needs_background": "light"
     },
     "output_type": "display_data"
    }
   ],
   "source": [
    "new_w, cost_hist = gradient_descent_cost(10**-2,10,0,0,words,0.6)\n",
    "plot_cost_histories(cost_hist)  \n",
    "print(\"final cost:\", cost_hist[-1])"
   ]
  },
  {
   "cell_type": "markdown",
   "metadata": {},
   "source": [
    "# Validation"
   ]
  },
  {
   "cell_type": "markdown",
   "metadata": {},
   "source": [
    "For better time complexity, a gradient descent function without cost calculations is defined for validation."
   ]
  },
  {
   "cell_type": "code",
   "execution_count": 18,
   "metadata": {},
   "outputs": [],
   "source": [
    "# gradient descent function \n",
    "def gradient_descent(gamma,max_eps,reg,b,w0,beta):\n",
    "    '''\n",
    "    performs binary (ridge) logistic regression with gradient descent \n",
    "    input:\n",
    "        gamma - float, learning rate\n",
    "        max_eps - int, maximum number of epochs\n",
    "        reg - float, ridge penalty value\n",
    "        b - float, bias\n",
    "        w0 - dict, dictionary of word, weight pairs for initial weights\n",
    "    output:\n",
    "        new_weights - dict, dictionary of word, weight pairs for final weights\n",
    "    '''\n",
    "    # copy initial weights\n",
    "    new_weights = copy(w0)\n",
    "    z = np.zeros((np.shape(w0)))      # momentum term\n",
    "    \n",
    "    for k in range(max_eps):\n",
    "        # randomly shuffle data at beginning of each epoch\n",
    "        random.shuffle(training_set)\n",
    "        tweet_counter = 0\n",
    "        for instance in training_set:\n",
    "            # remove duplicate words in tweet\n",
    "            tweet = list(set(instance[0]))\n",
    "            sentiment = instance[1]\n",
    "            p = 1/(1 + np.exp(-model(tweet,b,new_weights)))\n",
    "            for word in tweet:\n",
    "                # evaluation of cost function gradient\n",
    "                grad_eval = (p-sentiment) + reg*new_weights[word]\n",
    "                # take gradient descent step with momenum\n",
    "                z = beta*z + grad_eval\n",
    "                new_weights[word] = new_weights[word] - gamma*z \n",
    "            \n",
    "            tweet_counter += 1  \n",
    "    return new_weights"
   ]
  },
  {
   "cell_type": "markdown",
   "metadata": {},
   "source": [
    "`Choosing hyperparameters:`\n",
    "\n",
    "Function for obtaining validation accuracy:"
   ]
  },
  {
   "cell_type": "code",
   "execution_count": 21,
   "metadata": {},
   "outputs": [],
   "source": [
    "def get_accuracy(b,weights):\n",
    "    '''\n",
    "    gets accuracy of predictions of weights on the validation set\n",
    "    input:\n",
    "        b - float, bias\n",
    "        weights - dict, dictionary of word, weight pairs for initial weights\n",
    "    output:\n",
    "        accuracy - float, validation accuracy\n",
    "    '''\n",
    "    misclassifications = 0\n",
    "    for instance in validation_set:\n",
    "        tweet = instance[0]\n",
    "        sentiment = instance[1]\n",
    "        p = 1/(1 + np.exp(-model(tweet,b,weights)))\n",
    "        p = round(p)\n",
    "        if p != sentiment:\n",
    "            misclassifications += 1\n",
    "    accuracy = 1 - (misclassifications/len(validation_set))\n",
    "    return accuracy"
   ]
  },
  {
   "cell_type": "markdown",
   "metadata": {},
   "source": [
    "Words that haven't been seen before are ignored. There's not enough predictive power in any weights given through other methods to an unseen word."
   ]
  },
  {
   "cell_type": "code",
   "execution_count": 34,
   "metadata": {},
   "outputs": [
    {
     "name": "stdout",
     "output_type": "stream",
     "text": [
      "Model #| learning rate| max epochs| ridge penalty| bias| average accuracy\n",
      "1 .       0.0001          5           0.01            -0.5    0.6919708333333334\n",
      "2 .       0.0001          5           0.01            0    0.7352270833333332\n",
      "3 .       0.0001          5           0.01            0.5    0.7177020833333332\n",
      "4 .       0.0001          5           0.1            -0.5    0.6879458333333334\n",
      "5 .       0.0001          5           0.1            0    0.7394625\n",
      "6 .       0.0001          5           0.1            0.5    0.7167395833333333\n",
      "7 .       0.0001          5           1            -0.5    0.6008166666666667\n",
      "8 .       0.0001          5           1            0    0.7487354166666668\n",
      "9 .       0.0001          5           1            0.5    0.6424958333333334\n",
      "10 .       0.0001          7           0.01            -0.5    0.7014625\n",
      "11 .       0.0001          7           0.01            0    0.7397020833333333\n",
      "12 .       0.0001          7           0.01            0.5    0.7268791666666666\n",
      "13 .       0.0001          7           0.1            -0.5    0.6976916666666666\n",
      "14 .       0.0001          7           0.1            0    0.7437979166666667\n",
      "15 .       0.0001          7           0.1            0.5    0.7255645833333334\n",
      "16 .       0.0001          7           1            -0.5    0.6068166666666667\n",
      "17 .       0.0001          7           1            0    0.7509208333333334\n",
      "18 .       0.0001          7           1            0.5    0.6488604166666666\n",
      "19 .       1e-05          5           0.01            -0.5    0.59328125\n",
      "20 .       1e-05          5           0.01            0    0.7034916666666667\n",
      "21 .       1e-05          5           0.01            0.5    0.6156020833333332\n",
      "22 .       1e-05          5           0.1            -0.5    0.5898479166666667\n",
      "23 .       1e-05          5           0.1            0    0.7053208333333334\n",
      "24 .       1e-05          5           0.1            0.5    0.6124875000000001\n",
      "25 .       1e-05          5           1            -0.5    0.5351708333333333\n",
      "26 .       1e-05          5           1            0    0.7179625\n",
      "27 .       1e-05          5           1            0.5    0.5581416666666666\n",
      "28 .       1e-05          7           0.01            -0.5    0.6072020833333333\n",
      "29 .       1e-05          7           0.01            0    0.7070041666666667\n",
      "30 .       1e-05          7           0.01            0.5    0.6383833333333334\n",
      "31 .       1e-05          7           0.1            -0.5    0.6055354166666667\n",
      "32 .       1e-05          7           0.1            0    0.7097770833333333\n",
      "33 .       1e-05          7           0.1            0.5    0.6350854166666667\n",
      "34 .       1e-05          7           1            -0.5    0.5469958333333333\n",
      "35 .       1e-05          7           1            0    0.7232479166666668\n",
      "36 .       1e-05          7           1            0.5    0.5749541666666667\n",
      "37 .       1e-06          5           0.01            -0.5    0.5\n",
      "38 .       1e-06          5           0.01            0    0.6930270833333333\n",
      "39 .       1e-06          5           0.01            0.5    0.50001875\n",
      "40 .       1e-06          5           0.1            -0.5    0.5\n",
      "41 .       1e-06          5           0.1            0    0.6932312499999999\n",
      "42 .       1e-06          5           0.1            0.5    0.50001875\n",
      "43 .       1e-06          5           1            -0.5    0.5\n",
      "44 .       1e-06          5           1            0    0.6950458333333334\n",
      "45 .       1e-06          5           1            0.5    0.5000125\n",
      "46 .       1e-06          7           0.01            -0.5    0.500075\n",
      "47 .       1e-06          7           0.01            0    0.6935083333333333\n",
      "48 .       1e-06          7           0.01            0.5    0.50034375\n",
      "49 .       1e-06          7           0.1            -0.5    0.5000625000000001\n",
      "50 .       1e-06          7           0.1            0    0.69375625\n",
      "51 .       1e-06          7           0.1            0.5    0.50030625\n",
      "52 .       1e-06          7           1            -0.5    0.50001875\n",
      "53 .       1e-06          7           1            0    0.6965187500000001\n",
      "54 .       1e-06          7           1            0.5    0.50009375\n"
     ]
    }
   ],
   "source": [
    "learning_rates = [10**-4,10**-5,10**-6]\n",
    "max_epochs = [5,7]\n",
    "ridge_penalties = [10**-2,10**-1,10**0]\n",
    "bias = [-0.5,0,0.5]\n",
    "beta = 0\n",
    "\n",
    "# 1. choose hyperparameters\n",
    "# 2. train model on training_set, record weights\n",
    "# 3. test weights on validation set, record accuracy\n",
    "# 4. train same model 3 times total and get average accuracy\n",
    "# 5. repeat 1-4 for all combinations of hyperparameters\n",
    "accuracies = []\n",
    "model_num = 0\n",
    "print(\"Model #| learning rate| max epochs| ridge penalty| bias| average accuracy\")\n",
    "for learning_rate in learning_rates:\n",
    "    for num in max_epochs:\n",
    "        for ridge_penalty in ridge_penalties:\n",
    "            for b in bias:\n",
    "                validation_accuracy = 0\n",
    "                for i in range(3):\n",
    "                    new_w = gradient_descent(learning_rate,num,ridge_penalty,b,words,beta)\n",
    "                    validation_accuracy += get_accuracy(b,new_w)\n",
    "                avg_acc = validation_accuracy/3\n",
    "                model_num += 1\n",
    "                \n",
    "                accuracies.append((model_num,avg_acc,[learning_rate,num,ridge_penalty,b]))  \n",
    "                print(model_num,\".      \",learning_rate,\"        \",num,\"         \",ridge_penalty,\"          \",b,\"  \",avg_acc)"
   ]
  },
  {
   "cell_type": "markdown",
   "metadata": {},
   "source": [
    "These are the parameters that yielded the best average accuracy:"
   ]
  },
  {
   "cell_type": "code",
   "execution_count": 35,
   "metadata": {},
   "outputs": [
    {
     "name": "stdout",
     "output_type": "stream",
     "text": [
      "(17, 0.7509208333333334, [0.0001, 7, 1, 0])\n"
     ]
    }
   ],
   "source": [
    "best_params = max(accuracies, key=lambda x:x[1])\n",
    "print(best_params)"
   ]
  },
  {
   "cell_type": "markdown",
   "metadata": {},
   "source": [
    "Because the highest accuracies appear to be about 75%, parameters that yield similar validation accuracies > 74% are considered for the best model. New parameters around the values of the best parameters are tested on the validation set again."
   ]
  },
  {
   "cell_type": "code",
   "execution_count": 36,
   "metadata": {},
   "outputs": [
    {
     "name": "stdout",
     "output_type": "stream",
     "text": [
      "(8, 0.7487354166666668, [0.0001, 5, 1, 0])\n",
      "(14, 0.7437979166666667, [0.0001, 7, 0.1, 0])\n",
      "(17, 0.7509208333333334, [0.0001, 7, 1, 0])\n"
     ]
    }
   ],
   "source": [
    "highest_accs = [x for x in accuracies if x[1] > 0.74]\n",
    "for params in highest_accs:\n",
    "    print(params)"
   ]
  },
  {
   "cell_type": "markdown",
   "metadata": {},
   "source": [
    "Testing again on validation set with new parameter values around the best values from the previous test:"
   ]
  },
  {
   "cell_type": "code",
   "execution_count": 43,
   "metadata": {},
   "outputs": [
    {
     "name": "stdout",
     "output_type": "stream",
     "text": [
      "Model #| learning rate| max epochs| ridge penalty| bias| average accuracy\n",
      "1 .       0.01          10           0.025            0    0.7700104166666666\n",
      "2 .       0.01          10           0.025            0.25    0.7729354166666665\n",
      "3 .       0.01          10           0.25            0    0.7668208333333334\n",
      "4 .       0.01          10           0.25            0.25    0.7660791666666666\n",
      "5 .       0.01          10           1            0    0.7600750000000001\n",
      "6 .       0.01          10           1            0.25    0.73538125\n",
      "7 .       0.01          12           0.025            0    0.7701791666666665\n",
      "8 .       0.01          12           0.025            0.25    0.7730229166666667\n",
      "9 .       0.01          12           0.25            0    0.7662729166666667\n",
      "10 .       0.01          12           0.25            0.25    0.7670145833333334\n",
      "11 .       0.01          12           1            0    0.7579958333333333\n",
      "12 .       0.01          12           1            0.25    0.7342145833333333\n",
      "13 .       0.1          10           0.025            0    0.7540541666666666\n",
      "14 .       0.1          10           0.025            0.25    0.7570687500000001\n",
      "15 .       0.1          10           0.25            0    0.7380958333333334\n",
      "16 .       0.1          10           0.25            0.25    0.7408562499999999\n",
      "17 .       0.1          10           1            0    0.7109229166666666\n",
      "18 .       0.1          10           1            0.25    0.69055\n",
      "19 .       0.1          12           0.025            0    0.7536437500000001\n",
      "20 .       0.1          12           0.025            0.25    0.7566687500000001\n",
      "21 .       0.1          12           0.25            0    0.7396625\n",
      "22 .       0.1          12           0.25            0.25    0.7418375\n",
      "23 .       0.1          12           1            0    0.7130333333333333\n",
      "24 .       0.1          12           1            0.25    0.69835\n"
     ]
    }
   ],
   "source": [
    "learning_rates2 = [10**-2,10**-1]\n",
    "max_epochs2 = [10,12]\n",
    "ridge_penalties2 = [0.025,0.25,1]\n",
    "bias2 = [0,0.25]\n",
    "beta = 0\n",
    "\n",
    "accuracies2 = []\n",
    "model_num = 0\n",
    "print(\"Model #| learning rate| max epochs| ridge penalty| bias| average accuracy\")\n",
    "for learning_rate in learning_rates2:\n",
    "    for num in max_epochs2:\n",
    "        for ridge_penalty in ridge_penalties2:\n",
    "            for b in bias2:\n",
    "                validation_accuracy = 0\n",
    "                for i in range(3):\n",
    "                    new_w = gradient_descent(learning_rate,num,ridge_penalty,b,words,beta)\n",
    "                    validation_accuracy += get_accuracy(b,new_w)\n",
    "                avg_acc = validation_accuracy/3\n",
    "                model_num += 1\n",
    "                \n",
    "                accuracies2.append((model_num,avg_acc,[learning_rate,num,ridge_penalty,b]))  \n",
    "                print(model_num,\".      \",learning_rate,\"        \",num,\"         \",ridge_penalty,\"          \",b,\"  \",avg_acc)"
   ]
  },
  {
   "cell_type": "markdown",
   "metadata": {},
   "source": [
    "These are the parameters that yielded the best average accuracy for the second validation:"
   ]
  },
  {
   "cell_type": "code",
   "execution_count": 44,
   "metadata": {},
   "outputs": [
    {
     "name": "stdout",
     "output_type": "stream",
     "text": [
      "(8, 0.7730229166666667, [0.01, 12, 0.025, 0.25])\n"
     ]
    }
   ],
   "source": [
    "best_params = max(accuracies2, key=lambda x:x[1])\n",
    "print(best_params)"
   ]
  },
  {
   "cell_type": "markdown",
   "metadata": {},
   "source": [
    "Looking at all models that yielded accuracies > 77% to see if there's a trend or not:"
   ]
  },
  {
   "cell_type": "code",
   "execution_count": 45,
   "metadata": {},
   "outputs": [
    {
     "name": "stdout",
     "output_type": "stream",
     "text": [
      "(1, 0.7700104166666666, [0.01, 10, 0.025, 0])\n",
      "(2, 0.7729354166666665, [0.01, 10, 0.025, 0.25])\n",
      "(7, 0.7701791666666665, [0.01, 12, 0.025, 0])\n",
      "(8, 0.7730229166666667, [0.01, 12, 0.025, 0.25])\n"
     ]
    }
   ],
   "source": [
    "highest_accs = [x for x in accuracies2 if x[1] > 0.77]\n",
    "for params in highest_accs:\n",
    "    print(params)"
   ]
  },
  {
   "cell_type": "markdown",
   "metadata": {},
   "source": [
    "It appears that there is no significant difference between running gradient descent with either 10 or 12 epochs, as shown with the flattening of the cost function history plot as number of iterations increase. The best learning rate and ridge penalty appear to be $10^{-2}$ and 0.025. The best bias appears to be either 0 and 0.25 with no significant difference between the values.\n",
    "\n",
    "Because there seems to be no significant difference among the values described, the parameters with the highest average validation accuracy are chosen. Different momentum parameter values are tested as well."
   ]
  },
  {
   "cell_type": "markdown",
   "metadata": {},
   "source": [
    "Cost function history plot with the best parameters:"
   ]
  },
  {
   "cell_type": "code",
   "execution_count": 46,
   "metadata": {},
   "outputs": [
    {
     "name": "stdout",
     "output_type": "stream",
     "text": [
      "final cost: 30.74477548481591\n",
      "accuracy: 0.7730125\n"
     ]
    },
    {
     "data": {
      "image/png": "[encoded data removed]",
      "text/plain": [
       "<Figure size 432x288 with 1 Axes>"
      ]
     },
     "metadata": {
      "needs_background": "light"
     },
     "output_type": "display_data"
    }
   ],
   "source": [
    "best_w, cost_hist = gradient_descent_cost(10**-2,10,0.025,0.25,words,0)\n",
    "plot_cost_histories(cost_hist)  \n",
    "print(\"final cost:\", cost_hist[-1])\n",
    "# validation set accuracy\n",
    "acc = get_accuracy(0.25,best_w)\n",
    "print(\"accuracy:\",acc)"
   ]
  },
  {
   "cell_type": "markdown",
   "metadata": {},
   "source": [
    "# Testing"
   ]
  },
  {
   "cell_type": "markdown",
   "metadata": {},
   "source": [
    "Function for obtaining test accuracy:"
   ]
  },
  {
   "cell_type": "code",
   "execution_count": 26,
   "metadata": {},
   "outputs": [],
   "source": [
    "def test_accuracy(b,weights):\n",
    "    '''\n",
    "    gets accuracy of predictions of weights on the test set\n",
    "    input:\n",
    "        b - float, bias\n",
    "        weights - dict, dictionary of word, weight pairs for initial weights\n",
    "    output:\n",
    "        test_acc - float, test accuracy\n",
    "    '''\n",
    "    misclassifications = 0\n",
    "    for instance in test_set:\n",
    "        tweet = instance[0]\n",
    "        sentiment = instance[1]\n",
    "        p = 1/(1 + np.exp(-model(tweet,b,weights)))\n",
    "        p = round(p)\n",
    "        if p != sentiment:\n",
    "            misclassifications += 1\n",
    "    test_acc = 1 - (misclassifications/len(test_set))\n",
    "    return test_acc"
   ]
  },
  {
   "cell_type": "markdown",
   "metadata": {},
   "source": [
    "This is the accuracy the best model has on the test set:"
   ]
  },
  {
   "cell_type": "code",
   "execution_count": 47,
   "metadata": {},
   "outputs": [
    {
     "data": {
      "text/plain": [
       "0.7719729166666667"
      ]
     },
     "execution_count": 47,
     "metadata": {},
     "output_type": "execute_result"
    }
   ],
   "source": [
    "test_accuracy(0.25,best_w)"
   ]
  },
  {
   "cell_type": "markdown",
   "metadata": {},
   "source": [
    "# Top and bottom 5 words (stems) by weight and value of bias"
   ]
  },
  {
   "cell_type": "code",
   "execution_count": 24,
   "metadata": {},
   "outputs": [
    {
     "name": "stdout",
     "output_type": "stream",
     "text": [
      "The value of the bias term b is 0.25.\n",
      "\n",
      "Top 5 words by weight:\n",
      "reliev : 1.5547314205528828\n",
      "congratul : 1.5126289171320073\n",
      "thankyou : 1.509120638433089\n",
      "smile : 1.501181205258176\n",
      "pleasur : 1.43355243363451\n",
      "\n",
      "Bottom 5 words by weight:\n",
      "sad : -2.1954661760520033\n",
      "sadli : -2.0800385610735725\n",
      "saddest : -2.054509352771514\n",
      "disappoint : -1.9679421114548628\n",
      "unfortun : -1.9336575122856139\n"
     ]
    }
   ],
   "source": [
    "print(\"The value of the bias term b is 0.25.\")\n",
    "print()\n",
    "print(\"Top 5 words by weight:\")\n",
    "for word,weight in dict(sorted(best_w.items(), key=operator.itemgetter(1), reverse=True)[:5]).items():\n",
    "    print(word,\":\",weight)\n",
    "print()\n",
    "print(\"Bottom 5 words by weight:\")\n",
    "for word,weight in dict(sorted(best_w.items(), key=operator.itemgetter(1))[:5]).items():\n",
    "    print(word,\":\",weight)"
   ]
  },
  {
   "cell_type": "code",
   "execution_count": null,
   "metadata": {},
   "outputs": [],
   "source": []
  }
 ],
 "metadata": {
  "kernelspec": {
   "display_name": "Python 3",
   "language": "python",
   "name": "python3"
  },
  "language_info": {
   "codemirror_mode": {
    "name": "ipython",
    "version": 3
   },
   "file_extension": ".py",
   "mimetype": "text/x-python",
   "name": "python",
   "nbconvert_exporter": "python",
   "pygments_lexer": "ipython3",
   "version": "3.7.2"
  }
 },
 "nbformat": 4,
 "nbformat_minor": 2
}
